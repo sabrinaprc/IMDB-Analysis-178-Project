{
 "cells": [
  {
   "cell_type": "markdown",
   "id": "9e094732",
   "metadata": {},
   "source": [
    "Loading and preprocessing the data"
   ]
  },
  {
   "cell_type": "code",
   "execution_count": 11,
   "id": "0c6f2143",
   "metadata": {},
   "outputs": [],
   "source": [
    "import os\n",
    "from sklearn.model_selection import train_test_split\n",
    "from sklearn.feature_extraction.text import TfidfVectorizer\n",
    "from sklearn.neighbors import KNeighborsClassifier\n",
    "from sklearn.linear_model import LogisticRegression\n",
    "from sklearn.metrics import classification_report\n",
    "from sklearn.neural_network import MLPClassifier\n"
   ]
  },
  {
   "cell_type": "code",
   "execution_count": 3,
   "id": "7c2cc89b",
   "metadata": {},
   "outputs": [],
   "source": [
    "def load_imdb_data(data_dir):\n",
    "    texts = []\n",
    "    labels = []\n",
    "\n",
    "    for label_type in ['pos', 'neg']:\n",
    "        dir_name = os.path.join(data_dir, label_type)\n",
    "        for fname in os.listdir(dir_name):\n",
    "            if fname.endswith(\".txt\"):\n",
    "                with open(os.path.join(dir_name, fname), encoding=\"utf8\") as f:\n",
    "                    texts.append(f.read())\n",
    "                labels.append(1 if label_type == 'pos' else 0)\n",
    "    \n",
    "    return texts, labels\n",
    "\n",
    "# Example usage\n",
    "train_texts, train_labels = load_imdb_data(\"data/train\")\n",
    "test_texts, test_labels = load_imdb_data(\"data/test\")"
   ]
  },
  {
   "cell_type": "code",
   "execution_count": 4,
   "id": "1424de62",
   "metadata": {},
   "outputs": [],
   "source": [
    "X_train, X_val, y_train, y_val = train_test_split(\n",
    "    train_texts, train_labels, test_size=0.2, random_state=42\n",
    ")"
   ]
  },
  {
   "cell_type": "code",
   "execution_count": 5,
   "id": "865018f0",
   "metadata": {},
   "outputs": [],
   "source": [
    "# 4. Preprocess with TF-IDF\n",
    "vectorizer = TfidfVectorizer(lowercase=True, stop_words='english', max_features=10000)\n",
    "\n",
    "X_train_vec = vectorizer.fit_transform(X_train)\n",
    "X_val_vec = vectorizer.transform(X_val)\n",
    "X_test_vec = vectorizer.transform(test_texts)"
   ]
  },
  {
   "cell_type": "code",
   "execution_count": 6,
   "id": "d9b14491",
   "metadata": {},
   "outputs": [
    {
     "name": "stdout",
     "output_type": "stream",
     "text": [
      "kNN Results:\n",
      "              precision    recall  f1-score   support\n",
      "\n",
      "           0       0.61      0.73      0.67     12500\n",
      "           1       0.67      0.55      0.60     12500\n",
      "\n",
      "    accuracy                           0.64     25000\n",
      "   macro avg       0.64      0.64      0.63     25000\n",
      "weighted avg       0.64      0.64      0.63     25000\n",
      "\n"
     ]
    }
   ],
   "source": [
    "# 5. Train and Evaluate kNN\n",
    "knn = KNeighborsClassifier(n_neighbors=5)\n",
    "knn.fit(X_train_vec, y_train)\n",
    "y_pred_knn = knn.predict(X_test_vec)\n",
    "print(\"kNN Results:\")\n",
    "print(classification_report(test_labels, y_pred_knn))"
   ]
  },
  {
   "cell_type": "code",
   "execution_count": 7,
   "id": "81d76f6b",
   "metadata": {},
   "outputs": [
    {
     "name": "stdout",
     "output_type": "stream",
     "text": [
      "📊 Logistic Regression Results:\n",
      "              precision    recall  f1-score   support\n",
      "\n",
      "           0       0.88      0.87      0.88     12500\n",
      "           1       0.87      0.88      0.88     12500\n",
      "\n",
      "    accuracy                           0.88     25000\n",
      "   macro avg       0.88      0.88      0.88     25000\n",
      "weighted avg       0.88      0.88      0.88     25000\n",
      "\n"
     ]
    }
   ],
   "source": [
    "# 6. Train and Evaluate Logistic Regression\n",
    "logreg = LogisticRegression(C=1.0, max_iter=1000)\n",
    "logreg.fit(X_train_vec, y_train)\n",
    "\n",
    "y_pred_logreg = logreg.predict(X_test_vec)\n",
    "print(\"📊 Logistic Regression Results:\")\n",
    "print(classification_report(test_labels, y_pred_logreg))"
   ]
  },
  {
   "cell_type": "code",
   "execution_count": 18,
   "id": "8ef5be31",
   "metadata": {},
   "outputs": [
    {
     "name": "stdout",
     "output_type": "stream",
     "text": [
      "MLP (Feedforward Neural Network) Results:\n",
      "              precision    recall  f1-score   support\n",
      "\n",
      "           0       0.85      0.89      0.87     12500\n",
      "           1       0.88      0.85      0.87     12500\n",
      "\n",
      "    accuracy                           0.87     25000\n",
      "   macro avg       0.87      0.87      0.87     25000\n",
      "weighted avg       0.87      0.87      0.87     25000\n",
      "\n"
     ]
    }
   ],
   "source": [
    "# 7. Feedforward neural network (MLP classifier)\n",
    "mlp = MLPClassifier(\n",
    "    hidden_layer_sizes=(50,),\n",
    "    activation='relu',\n",
    "    solver='adam',\n",
    "    max_iter=300,\n",
    "    early_stopping=True,\n",
    "    alpha=0.0005,\n",
    "    random_state=42\n",
    ")\n",
    "mlp.fit(X_train_vec, y_train)\n",
    "y_pred_mlp = mlp.predict(X_test_vec)\n",
    "\n",
    "print(\"MLP (Feedforward Neural Network) Results:\")\n",
    "print(classification_report(test_labels, y_pred_mlp))"
   ]
  }
 ],
 "metadata": {
  "kernelspec": {
   "display_name": "Python (cs178_env)",
   "language": "python",
   "name": "cs178_env"
  },
  "language_info": {
   "codemirror_mode": {
    "name": "ipython",
    "version": 3
   },
   "file_extension": ".py",
   "mimetype": "text/x-python",
   "name": "python",
   "nbconvert_exporter": "python",
   "pygments_lexer": "ipython3",
   "version": "3.12.9"
  }
 },
 "nbformat": 4,
 "nbformat_minor": 5
}
